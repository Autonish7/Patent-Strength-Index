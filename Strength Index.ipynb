{
 "cells": [
  {
   "cell_type": "markdown",
   "metadata": {},
   "source": [
    "# Derwent Strength Index"
   ]
  },
  {
   "cell_type": "markdown",
   "metadata": {},
   "source": [
    "### Importing Libraries"
   ]
  },
  {
   "cell_type": "code",
   "execution_count": 1,
   "metadata": {},
   "outputs": [],
   "source": [
    "import pandas as pd\n",
    "import numpy as np\n",
    "import matplotlib.pyplot as plt\n",
    "import seaborn as sns\n",
    "from datetime import date, datetime, timedelta"
   ]
  },
  {
   "cell_type": "markdown",
   "metadata": {},
   "source": [
    "### Uploading CSV file\n",
    "\n",
    "Columns extracted:<br>\n",
    "DWPI Accession Number<br>\n",
    "Publication Number<br>\n",
    "DWPI Family Members<br>\n",
    "Publication Date<br>\n",
    "Priority Date - Earliest<br>\n",
    "DWPI Class<br>\n",
    "Count of Citing Patents - DPCI<br>"
   ]
  },
  {
   "cell_type": "code",
   "execution_count": 11,
   "metadata": {},
   "outputs": [],
   "source": [
    "#file = input('Enter the file name :')\n",
    "#file = file + '.csv'\n",
    "df = pd.read_csv('DSI_python.csv')"
   ]
  },
  {
   "cell_type": "markdown",
   "metadata": {},
   "source": [
    "### Initial look at a file"
   ]
  },
  {
   "cell_type": "code",
   "execution_count": 12,
   "metadata": {},
   "outputs": [
    {
     "data": {
      "text/html": [
       "<div>\n",
       "<style scoped>\n",
       "    .dataframe tbody tr th:only-of-type {\n",
       "        vertical-align: middle;\n",
       "    }\n",
       "\n",
       "    .dataframe tbody tr th {\n",
       "        vertical-align: top;\n",
       "    }\n",
       "\n",
       "    .dataframe thead th {\n",
       "        text-align: right;\n",
       "    }\n",
       "</style>\n",
       "<table border=\"1\" class=\"dataframe\">\n",
       "  <thead>\n",
       "    <tr style=\"text-align: right;\">\n",
       "      <th></th>\n",
       "      <th>0</th>\n",
       "      <th>1</th>\n",
       "      <th>2</th>\n",
       "      <th>3</th>\n",
       "      <th>4</th>\n",
       "    </tr>\n",
       "  </thead>\n",
       "  <tbody>\n",
       "    <tr>\n",
       "      <th>DWPI Accession Number</th>\n",
       "      <td>2001330470</td>\n",
       "      <td>2001345882</td>\n",
       "      <td>2001357757</td>\n",
       "      <td>2001389746</td>\n",
       "      <td>2001466546</td>\n",
       "    </tr>\n",
       "    <tr>\n",
       "      <th>Publication Number</th>\n",
       "      <td>US7189004B2</td>\n",
       "      <td>EP1093208B1</td>\n",
       "      <td>EP1093943A3</td>\n",
       "      <td>US7199507B2</td>\n",
       "      <td>DE20021290U1</td>\n",
       "    </tr>\n",
       "    <tr>\n",
       "      <th>DWPI Family Members</th>\n",
       "      <td>EP1091469A2 | CZ200003702A3 | JP2001157405A | ...</td>\n",
       "      <td>EP1093208A2 | IT1309097B | EP1093208B1 | DE600...</td>\n",
       "      <td>EP1093943A2 | US6337949B1 | IT1311243B | EP109...</td>\n",
       "      <td>WO2001033645A2 | AU200110516A | US6979936B1 | ...</td>\n",
       "      <td>DE20021290U1</td>\n",
       "    </tr>\n",
       "    <tr>\n",
       "      <th>Publication Date</th>\n",
       "      <td>13-03-2007</td>\n",
       "      <td>02-08-2006</td>\n",
       "      <td>09-07-2003</td>\n",
       "      <td>03-04-2007</td>\n",
       "      <td>31-05-2001</td>\n",
       "    </tr>\n",
       "    <tr>\n",
       "      <th>Priority Date - Earliest</th>\n",
       "      <td>09-10-1999</td>\n",
       "      <td>11-10-1999</td>\n",
       "      <td>21-10-1999</td>\n",
       "      <td>31-10-1999</td>\n",
       "      <td>15-12-2000</td>\n",
       "    </tr>\n",
       "    <tr>\n",
       "      <th>DWPI Class</th>\n",
       "      <td>V06 | E |  | X11 | E |  | Q62 | N</td>\n",
       "      <td>V06 | E |  | X11 | E</td>\n",
       "      <td>V06 | E |  | X22 | E |  | X27 | E |  | Q12 | N...</td>\n",
       "      <td>V06 | E |  | X27 | E</td>\n",
       "      <td>V06 | E |  | X13 | E</td>\n",
       "    </tr>\n",
       "    <tr>\n",
       "      <th>Count of Citing Patents</th>\n",
       "      <td>39</td>\n",
       "      <td>14</td>\n",
       "      <td>13</td>\n",
       "      <td>85</td>\n",
       "      <td>3</td>\n",
       "    </tr>\n",
       "    <tr>\n",
       "      <th>Priority Country/Region</th>\n",
       "      <td>GB | US | US</td>\n",
       "      <td>IT</td>\n",
       "      <td>IT | US</td>\n",
       "      <td>WO | IL | WO | US</td>\n",
       "      <td>DE</td>\n",
       "    </tr>\n",
       "  </tbody>\n",
       "</table>\n",
       "</div>"
      ],
      "text/plain": [
       "                                                                          0  \\\n",
       "DWPI Accession Number                                            2001330470   \n",
       "Publication Number                                              US7189004B2   \n",
       "DWPI Family Members       EP1091469A2 | CZ200003702A3 | JP2001157405A | ...   \n",
       "Publication Date                                                 13-03-2007   \n",
       "Priority Date - Earliest                                         09-10-1999   \n",
       "DWPI Class                                V06 | E |  | X11 | E |  | Q62 | N   \n",
       "Count of Citing Patents                                                  39   \n",
       "Priority Country/Region                                        GB | US | US   \n",
       "\n",
       "                                                                          1  \\\n",
       "DWPI Accession Number                                            2001345882   \n",
       "Publication Number                                              EP1093208B1   \n",
       "DWPI Family Members       EP1093208A2 | IT1309097B | EP1093208B1 | DE600...   \n",
       "Publication Date                                                 02-08-2006   \n",
       "Priority Date - Earliest                                         11-10-1999   \n",
       "DWPI Class                                             V06 | E |  | X11 | E   \n",
       "Count of Citing Patents                                                  14   \n",
       "Priority Country/Region                                                  IT   \n",
       "\n",
       "                                                                          2  \\\n",
       "DWPI Accession Number                                            2001357757   \n",
       "Publication Number                                              EP1093943A3   \n",
       "DWPI Family Members       EP1093943A2 | US6337949B1 | IT1311243B | EP109...   \n",
       "Publication Date                                                 09-07-2003   \n",
       "Priority Date - Earliest                                         21-10-1999   \n",
       "DWPI Class                V06 | E |  | X22 | E |  | X27 | E |  | Q12 | N...   \n",
       "Count of Citing Patents                                                  13   \n",
       "Priority Country/Region                                             IT | US   \n",
       "\n",
       "                                                                          3  \\\n",
       "DWPI Accession Number                                            2001389746   \n",
       "Publication Number                                              US7199507B2   \n",
       "DWPI Family Members       WO2001033645A2 | AU200110516A | US6979936B1 | ...   \n",
       "Publication Date                                                 03-04-2007   \n",
       "Priority Date - Earliest                                         31-10-1999   \n",
       "DWPI Class                                             V06 | E |  | X27 | E   \n",
       "Count of Citing Patents                                                  85   \n",
       "Priority Country/Region                                   WO | IL | WO | US   \n",
       "\n",
       "                                             4  \n",
       "DWPI Accession Number               2001466546  \n",
       "Publication Number                DE20021290U1  \n",
       "DWPI Family Members               DE20021290U1  \n",
       "Publication Date                    31-05-2001  \n",
       "Priority Date - Earliest            15-12-2000  \n",
       "DWPI Class                V06 | E |  | X13 | E  \n",
       "Count of Citing Patents                      3  \n",
       "Priority Country/Region                     DE  "
      ]
     },
     "execution_count": 12,
     "metadata": {},
     "output_type": "execute_result"
    }
   ],
   "source": [
    "df.head().T"
   ]
  },
  {
   "cell_type": "code",
   "execution_count": 13,
   "metadata": {
    "scrolled": true
   },
   "outputs": [
    {
     "name": "stdout",
     "output_type": "stream",
     "text": [
      "<class 'pandas.core.frame.DataFrame'>\n",
      "RangeIndex: 2033 entries, 0 to 2032\n",
      "Data columns (total 8 columns):\n",
      " #   Column                    Non-Null Count  Dtype  \n",
      "---  ------                    --------------  -----  \n",
      " 0   DWPI Accession Number     2033 non-null   object \n",
      " 1   Publication Number        2033 non-null   object \n",
      " 2   DWPI Family Members       2033 non-null   object \n",
      " 3   Publication Date          2033 non-null   object \n",
      " 4   Priority Date - Earliest  2033 non-null   object \n",
      " 5   DWPI Class                2033 non-null   object \n",
      " 6   Count of Citing Patents   1217 non-null   float64\n",
      " 7   Priority Country/Region   2024 non-null   object \n",
      "dtypes: float64(1), object(7)\n",
      "memory usage: 127.2+ KB\n"
     ]
    }
   ],
   "source": [
    "df.info()"
   ]
  },
  {
   "cell_type": "code",
   "execution_count": 14,
   "metadata": {},
   "outputs": [
    {
     "data": {
      "text/plain": [
       "DWPI Accession Number        object\n",
       "Publication Number           object\n",
       "DWPI Family Members          object\n",
       "Publication Date             object\n",
       "Priority Date - Earliest     object\n",
       "DWPI Class                   object\n",
       "Count of Citing Patents     float64\n",
       "Priority Country/Region      object\n",
       "dtype: object"
      ]
     },
     "execution_count": 14,
     "metadata": {},
     "output_type": "execute_result"
    }
   ],
   "source": [
    "df.dtypes"
   ]
  },
  {
   "cell_type": "markdown",
   "metadata": {},
   "source": [
    "### Important Variable"
   ]
  },
  {
   "cell_type": "code",
   "execution_count": 15,
   "metadata": {},
   "outputs": [],
   "source": [
    "total_patent = len(df)"
   ]
  },
  {
   "cell_type": "markdown",
   "metadata": {},
   "source": [
    "### Handling Datatype"
   ]
  },
  {
   "cell_type": "code",
   "execution_count": 16,
   "metadata": {},
   "outputs": [],
   "source": [
    "df = df.astype({'DWPI Accession Number': 'str',\n",
    "          'Publication Number': 'str',\n",
    "          'DWPI Family Members': 'str',\n",
    "          'Publication Date': 'datetime64',\n",
    "          'Priority Date - Earliest': 'datetime64',\n",
    "          'DWPI Class': 'str',\n",
    "          'Count of Citing Patents': 'float64',\n",
    "          'Priority Country/Region': 'str'}, copy=True)"
   ]
  },
  {
   "cell_type": "code",
   "execution_count": 17,
   "metadata": {},
   "outputs": [
    {
     "data": {
      "text/plain": [
       "DWPI Accession Number               object\n",
       "Publication Number                  object\n",
       "DWPI Family Members                 object\n",
       "Publication Date            datetime64[ns]\n",
       "Priority Date - Earliest    datetime64[ns]\n",
       "DWPI Class                          object\n",
       "Count of Citing Patents            float64\n",
       "Priority Country/Region             object\n",
       "dtype: object"
      ]
     },
     "execution_count": 17,
     "metadata": {},
     "output_type": "execute_result"
    }
   ],
   "source": [
    "df.dtypes"
   ]
  },
  {
   "cell_type": "markdown",
   "metadata": {},
   "source": [
    "### Handling Missing values"
   ]
  },
  {
   "cell_type": "code",
   "execution_count": 18,
   "metadata": {
    "scrolled": true
   },
   "outputs": [
    {
     "name": "stdout",
     "output_type": "stream",
     "text": [
      "<class 'pandas.core.frame.DataFrame'>\n",
      "RangeIndex: 2033 entries, 0 to 2032\n",
      "Data columns (total 8 columns):\n",
      " #   Column                    Non-Null Count  Dtype         \n",
      "---  ------                    --------------  -----         \n",
      " 0   DWPI Accession Number     2033 non-null   object        \n",
      " 1   Publication Number        2033 non-null   object        \n",
      " 2   DWPI Family Members       2033 non-null   object        \n",
      " 3   Publication Date          2033 non-null   datetime64[ns]\n",
      " 4   Priority Date - Earliest  2033 non-null   datetime64[ns]\n",
      " 5   DWPI Class                2033 non-null   object        \n",
      " 6   Count of Citing Patents   1217 non-null   float64       \n",
      " 7   Priority Country/Region   2033 non-null   object        \n",
      "dtypes: datetime64[ns](2), float64(1), object(5)\n",
      "memory usage: 127.2+ KB\n"
     ]
    }
   ],
   "source": [
    "df.info()"
   ]
  },
  {
   "cell_type": "markdown",
   "metadata": {},
   "source": [
    "##### Earliest priority countries"
   ]
  },
  {
   "cell_type": "code",
   "execution_count": 19,
   "metadata": {},
   "outputs": [],
   "source": [
    "%timeit\n",
    "for i in range(total_patent):\n",
    "    if len(df['Priority Country/Region'][i]) == 3:\n",
    "        df.loc[i,'Earliest Priority Country'] = df['Publication Number'][i][:2]\n",
    "    else:\n",
    "        df.loc[i,'Earliest Priority Country']= df['Priority Country/Region'][i][:2]"
   ]
  },
  {
   "cell_type": "code",
   "execution_count": 20,
   "metadata": {},
   "outputs": [],
   "source": [
    "df['Count of Citing Patents'] = df['Count of Citing Patents'].replace(np.nan, 0)"
   ]
  },
  {
   "cell_type": "markdown",
   "metadata": {},
   "source": [
    "### CN Utility Model"
   ]
  },
  {
   "cell_type": "code",
   "execution_count": 21,
   "metadata": {},
   "outputs": [],
   "source": [
    "df['Country code'] = df['Publication Number'].str[:2]\n",
    "\n",
    "for i in range(total_patent):\n",
    "    if df['Publication Number'][i][-2:-1].isalpha():\n",
    "        df.loc[i,'Kind code'] = df['Publication Number'][i][-2:]\n",
    "    else:\n",
    "        df.loc[i,'Kind code'] = df['Publication Number'][i][-1:]\n",
    "               \n",
    "df['Country and kind code'] = df['Country code'] + df['Kind code']        "
   ]
  },
  {
   "cell_type": "code",
   "execution_count": 22,
   "metadata": {},
   "outputs": [],
   "source": [
    "for i in range(total_patent):\n",
    "    if df['Country and kind code'][i] == 'CNU' or df['Country and kind code'][i] == 'CNY':\n",
    "        if '|' not in df['DWPI Family Members'][i]:\n",
    "            df.loc[i,'CN Utility Model'] = 'CN Utility Model'\n",
    "        else:\n",
    "            df.loc[i,'CN Utility Model'] = 'Non CN Utility Model'\n",
    "    else:\n",
    "        df.loc[i,'CN Utility Model'] = 'Non CN Utility Model'"
   ]
  },
  {
   "cell_type": "code",
   "execution_count": 23,
   "metadata": {},
   "outputs": [
    {
     "data": {
      "text/plain": [
       "Non CN Utility Model    1655\n",
       "CN Utility Model         378\n",
       "Name: CN Utility Model, dtype: int64"
      ]
     },
     "execution_count": 23,
     "metadata": {},
     "output_type": "execute_result"
    }
   ],
   "source": [
    "df['CN Utility Model'].value_counts()"
   ]
  },
  {
   "cell_type": "code",
   "execution_count": 24,
   "metadata": {},
   "outputs": [
    {
     "name": "stdout",
     "output_type": "stream",
     "text": [
      "<class 'pandas.core.frame.DataFrame'>\n",
      "RangeIndex: 2033 entries, 0 to 2032\n",
      "Data columns (total 13 columns):\n",
      " #   Column                     Non-Null Count  Dtype         \n",
      "---  ------                     --------------  -----         \n",
      " 0   DWPI Accession Number      2033 non-null   object        \n",
      " 1   Publication Number         2033 non-null   object        \n",
      " 2   DWPI Family Members        2033 non-null   object        \n",
      " 3   Publication Date           2033 non-null   datetime64[ns]\n",
      " 4   Priority Date - Earliest   2033 non-null   datetime64[ns]\n",
      " 5   DWPI Class                 2033 non-null   object        \n",
      " 6   Count of Citing Patents    2033 non-null   float64       \n",
      " 7   Priority Country/Region    2033 non-null   object        \n",
      " 8   Earliest Priority Country  2033 non-null   object        \n",
      " 9   Country code               2033 non-null   object        \n",
      " 10  Kind code                  2033 non-null   object        \n",
      " 11  Country and kind code      2033 non-null   object        \n",
      " 12  CN Utility Model           2033 non-null   object        \n",
      "dtypes: datetime64[ns](2), float64(1), object(10)\n",
      "memory usage: 206.6+ KB\n"
     ]
    }
   ],
   "source": [
    "df.info()"
   ]
  },
  {
   "cell_type": "markdown",
   "metadata": {},
   "source": [
    "### Publication and priority year"
   ]
  },
  {
   "cell_type": "code",
   "execution_count": 25,
   "metadata": {},
   "outputs": [],
   "source": [
    "df['Basic Patent Year'] =  pd.DatetimeIndex(df['Publication Date']).year\n",
    "df['Earliest Priority Year'] =  pd.DatetimeIndex(df['Priority Date - Earliest']).year"
   ]
  },
  {
   "cell_type": "markdown",
   "metadata": {},
   "source": [
    "### Family Member Countries"
   ]
  },
  {
   "cell_type": "code",
   "execution_count": 26,
   "metadata": {},
   "outputs": [],
   "source": [
    "for i in range(total_patent):\n",
    "    family = df['DWPI Family Members'][i].split('|')  \n",
    "    temp = ''\n",
    "    cc_reduced = ''\n",
    "    wo_reduced = ''\n",
    "    \n",
    "    for j in range(len(family)):\n",
    "        cc_family_member = family[j].strip()[:2]\n",
    "        if family[j].strip()[-2:-1].isalpha():\n",
    "            kc_family_member = family[j].strip()[-2:]\n",
    "        else:\n",
    "            kc_family_member = family[j].strip()[-1:]\n",
    "        \n",
    "        temp_country_code = cc_family_member + kc_family_member\n",
    "        temp = temp + ' | ' + temp_country_code\n",
    "        \n",
    "        if cc_family_member not in cc_reduced:\n",
    "            cc_reduced = cc_reduced + ' | ' + cc_family_member\n",
    "        if cc_family_member != 'WO' and cc_family_member not in wo_reduced:\n",
    "            wo_reduced = wo_reduced + ' | ' + cc_family_member\n",
    "        \n",
    "        if cc_family_member not in cc_reduced:\n",
    "            cc_reduced = cc_reduced + ' | ' + cc_family_member\n",
    "        \n",
    "        \n",
    "    \n",
    "    df.loc[i,'Family kindcode'] = temp[3:]\n",
    "    df.loc[i,'Family member with PCT'] = cc_reduced[3:]\n",
    "    df.loc[i,'Family member without PCT'] = wo_reduced[3:]"
   ]
  },
  {
   "cell_type": "markdown",
   "metadata": {},
   "source": [
    "### Quad Filings"
   ]
  },
  {
   "cell_type": "code",
   "execution_count": 27,
   "metadata": {},
   "outputs": [
    {
     "data": {
      "text/plain": [
       "       1919\n",
       "Yes     114\n",
       "Name: Quad Filed, dtype: int64"
      ]
     },
     "execution_count": 27,
     "metadata": {},
     "output_type": "execute_result"
    }
   ],
   "source": [
    "Quad = ['US', 'EP', 'CN', 'JP']\n",
    "for i in range(total_patent):\n",
    "    if all(quad in df['Family member without PCT'][i] for quad in Quad):\n",
    "        df.loc[i, 'Quad Filed'] = 'Yes'\n",
    "    else:\n",
    "        df.loc[i, 'Quad Filed'] = ''\n",
    "        \n",
    "df['Quad Filed'].value_counts()"
   ]
  },
  {
   "cell_type": "markdown",
   "metadata": {},
   "source": [
    "### JP Granted"
   ]
  },
  {
   "cell_type": "code",
   "execution_count": 28,
   "metadata": {},
   "outputs": [
    {
     "data": {
      "text/plain": [
       "       439\n",
       "Yes    116\n",
       "Name: Granted JP, dtype: int64"
      ]
     },
     "execution_count": 28,
     "metadata": {},
     "output_type": "execute_result"
    }
   ],
   "source": [
    "for i in range(total_patent):\n",
    "    JP = ''\n",
    "    if 'JP' in df['DWPI Family Members'][i]:\n",
    "        indicator_code = df['Country and kind code'][i].split(' | ')\n",
    "        for member_code in indicator_code:\n",
    "\n",
    "            if member_code.strip()[:2] == 'JP': \n",
    "                if (member_code.strip()[-2:] == 'B1' or member_code.strip()[-2:] == 'B2' or \n",
    "                    member_code.strip()[-2:] == 'C1' or member_code.strip()[-2:] == 'C2' or \n",
    "                    member_code.strip()[-2:] == 'T1' or member_code.strip()[-2:] == 'T4' or\n",
    "                    member_code.strip()[-2:] == 'Z1' or member_code.strip()[-2:] == 'Z4' or \n",
    "                    member_code.strip()[-1] == 'B' or member_code.strip()[-1] == 'C' or member_code.strip()[1] == 'S' or \n",
    "                    (member_code.strip()[-1] == 'U' and int(df['Earliest Priority Year'][i]) > 1994)):\n",
    "                    JP = 'Yes'        \n",
    "\n",
    "        df.loc[i,'Granted JP'] =  JP    \n",
    "\n",
    "df['Granted JP'].value_counts()"
   ]
  },
  {
   "cell_type": "markdown",
   "metadata": {},
   "source": [
    "### EP Granted"
   ]
  },
  {
   "cell_type": "code",
   "execution_count": 29,
   "metadata": {},
   "outputs": [
    {
     "data": {
      "text/plain": [
       "       266\n",
       "Yes     51\n",
       "Name: Granted EP, dtype: int64"
      ]
     },
     "execution_count": 29,
     "metadata": {},
     "output_type": "execute_result"
    }
   ],
   "source": [
    "for i in range(total_patent):\n",
    "    EP = ''\n",
    "    if 'EP' in df['DWPI Family Members'][i]:\n",
    "        indicator_code = df['Country and kind code'][i].split(' | ')\n",
    "        for member_code in indicator_code:\n",
    "\n",
    "            if member_code.strip()[:2] == 'EP' and (member_code.strip()[-2:-1] == 'B' or member_code.strip()[-1] == 'B'):\n",
    "                EP = 'Yes'\n",
    "\n",
    "\n",
    "        df.loc[i,'Granted EP'] =  EP\n",
    "\n",
    "df['Granted EP'].value_counts()"
   ]
  },
  {
   "cell_type": "markdown",
   "metadata": {},
   "source": [
    "### US Granted"
   ]
  },
  {
   "cell_type": "code",
   "execution_count": 30,
   "metadata": {},
   "outputs": [
    {
     "data": {
      "text/plain": [
       "       1383\n",
       "Yes     650\n",
       "Name: Granted US, dtype: int64"
      ]
     },
     "execution_count": 30,
     "metadata": {},
     "output_type": "execute_result"
    }
   ],
   "source": [
    "for i in range(total_patent):\n",
    "    US = ''\n",
    "    if 'US' in df['DWPI Family Members'][i]:\n",
    "        member = df['DWPI Family Members'][i].split(' | ')\n",
    "        \n",
    "        for patent in member:\n",
    "            if patent.strip()[:2] == 'US' and len(patent.strip()) <13:\n",
    "                US = 'Yes'\n",
    "                \n",
    "    df.loc[i,'Granted US'] =  US\n",
    "df['Granted US'].value_counts()"
   ]
  },
  {
   "cell_type": "markdown",
   "metadata": {},
   "source": [
    "### Granted Non-Trilat"
   ]
  },
  {
   "cell_type": "code",
   "execution_count": 31,
   "metadata": {},
   "outputs": [],
   "source": [
    "Non_trilat_grant = [\"APA\", \"APU\", \"ARA\", \"ARQ\", \"ATB\", \"ATB1\", \"ATB2\", \"ATB8\", \"ATB9\", \"ATE\", \"ATT\", \"ATU\", \n",
    "                \"ATU1\", \"ATU2\", \"ATU3\", \"ATU8\", \"ATU9\", \"AUA4\", \"AUA6\", \"AUA8\", \"AUA9\", \"AUB\", \"AUB1\", \n",
    "                \"AUB2\", \"AUB3\", \"AUB4\", \"AUB8\", \"AUB9\", \"AUC\", \"AUC1\", \"AUC4\", \"AUC8\", \"AUC9\", \"AUS\", \"BAB\", \n",
    "                \"BAB1\", \"BEA\", \"BEA1\", \"BEA2\", \"BEA3\", \"BEA4\", \"BEA5\", \"BEA6\", \"BEA7\", \"BEA8\", \"BEA9\", \"BEAB\", \n",
    "                \"BEAC\", \"BEAD\", \"BEAE\", \"BEAF\", \"BEAG\", \"BEAH\", \"BEB3\", \"BEB5\", \"BEB6\", \"BEB7\", \"BEBF\", \"BET\", \n",
    "                \"BET1\", \"BET2\", \"BET7\", \"BEX\", \"BGA3\", \"BGA4\", \"BGB1\", \"BGB2\", \"BGD\", \"BGS\", \"BGY1\", \"BGY2\", \"BNA\", \n",
    "                \"BRB\", \"BRB1\", \"BRB2\", \"BRC1\", \"BRC5\", \"BRC6\", \"BRC7\", \"BRC8\", \"BRD0\", \"BRY1\", \"BYC1\", \"BYU\", \"CAA\", \n",
    "                \"CAA2\", \"CAB\", \"CAC\", \"CAC2\", \"CAE\", \"CAS\", \"CHA\", \"CHA5\", \"CHA9\", \"CHB\", \"CHB1\", \"CHB5\", \"CHB8\", \"CHB9\", \n",
    "                \"CHC1\", \"CHC2\", \"CHC9\", \"CHE\", \"CHH1\", \"CHH2\", \"CHH9\", \"CLA2\", \"CLA3\", \"CLB\", \"CLY\", \"CNC\", \"CNB\", \n",
    "                \"CNK1\", \"CNY\", \"COA1\", \"CSA\", \"CSB2\", \"CSB4\", \"CSB6\", \"CSC\", \"CSL\", \"CSP\", \"CUA1\", \"CUA2\", \"CUA3\", \"CUB\", \n",
    "                \"CUB1\", \"CUB2\", \"CUB6\", \"CUB7\", \"CUP\", \"CYA\", \"CYB1\", \"CZB6\", \"CZU1\", \"DDA\", \"DDA1\", \"DDA2\", \"DDA3\", \"DDA4\", \n",
    "                \"DDA5\", \"DDA6\", \"DDA8\", \"DDAB\", \"DDAC\", \"DDB\", \"DDB1\", \"DDB2\", \"DDB3\", \"DDB5\", \"DDC\", \"DDC2\", \"DDC4\", \n",
    "                \"DDC5\", \"DDD\", \"DDS\", \"DDT\", \"DDT1\", \"DDT9\", \"DDU\", \"DDW\", \"DDY\", \"DDZ\", \"DEA\", \"DEA5\", \"DEA8\", \n",
    "                \"DEA9\", \"DEB\", \"DEB3\", \"DEB4\", \"DEB8\", \"DEB9\", \"DEC\", \"DEC0\", \"DEC1\", \"DEC2\", \"DEC3\", \"DEC4\", \n",
    "                \"DEC5\", \"DEC8\", \"DEC9\", \"DED1\", \"DED2\", \"DEE\", \"DEG\", \"DEI2\", \"DER2\", \"DET2\", \"DET3\", \"DET4\", \n",
    "                \"DET8\", \"DET9\", \"DEU\", \"DEU1\", \"DEU8\", \"DEU9\", \"DKB1\", \"DKB2\", \"DKB3\", \"DKB4\", \"DKC\", \"DKT2\", \n",
    "                \"DKT3\", \"DKT4\", \"DKT5\", \"DKU3\", \"DKU4\", \"DKY3\", \"DKY4\", \"DKY5\", \"DKY6\", \"DKZ6\", \"DZA1\", \"EAB1\", \n",
    "                \"EEB1\", \"EEU1\", \"EGA\", \"ESA\", \"ESA3\", \"ESA5\", \"ESA7\", \"ESAF\", \"ESB\", \"ESB1\", \"ESB2\", \"ESB3\", \n",
    "                \"ESB8\", \"ESB9\", \"ESBA\", \"ESBB\", \"ESH1\", \"ESH3\", \"ESR\", \"EST3\", \"EST4\", \"EST5\", \"ESY\", \"ESY1\", \n",
    "                \"ESY2\", \"ESY8\", \"ESYA\", \"FIB1\", \"FIC\", \"FIL\", \"FIU1\", \"FRA\", \"FRA5\", \"FRA6\", \"FRA7\", \"FRA8\", \n",
    "                \"FRB\", \"FRB1\", \"FRB2\", \"FRB3\", \"FRB4\", \"FRE\", \"FRF\", \"FRM\", \"GBB\", \"GBB2\", \"GBB8\", \"GBC\", \n",
    "                \"GBC2\", \"GCA\", \"GCB\", \"GEB\", \"GRA1\", \"GRA7\", \"GRB\", \"GRB1\", \"GRB2\", \"GRT1\", \"GRT3\", \"GRT7\", \"GRY\",\n",
    "                \"HKA\", \"HKA1\", \"HKA2\", \"HNA\", \"HRB\", \"HRB1\", \"HRB3\", \"HRB4\", \"HRB8\", \"HRB9\", \"HRC1\", \"HRT3\", \"HRT4\", \n",
    "                \"HRT5\", \"HRT8\", \"HUB\", \"HUB1\", \"HUB3\", \"HUP\", \"HUX\", \"IDB\", \"IDS\", \"IEA\", \"IEB\", \"IEB1\", \"IEB2\", \n",
    "                \"IEB3\", \"IEL\", \"ILA0\", \"INA1\", \"INB\", \"INB1\", \"INE\", \"ISB\", \"ISB2\", \"ISB6\", \"ITB\", \"ITB1\", \"ITT2\", \n",
    "                \"ITU\", \"ITY1\", \"ITZ2\", \"KEA\", \"KRS\", \"KRB1\", \"KRXA\", \"KRXU\", \"KRY1\", \"KRY2\", \"KZA\", \n",
    "                \"KZB\", \"LTA3\", \"LTB\", \"LTR3\", \"LVA3\", \"LVB\", \"LVB4\", \"MAA1\", \"MAB1\", \"MCA\", \"MCE\", \"MDC1\", \n",
    "                \"MDC2\", \"MDF1\", \"MDF2\", \"MDG2\", \"MDW1\", \"MDW2\", \"MDY\", \"MDZ\", \"MNA6\", \"MNA8\", \"MTA\", \"MWA\",\n",
    "                \"MXA4\", \"MXA5\", \"MXA6\", \"MXA7\", \"MXB\", \"MXE\", \"MXXA\", \"MYA\", \"NL\", \"NLC\", \"NLC1\", \"NLC2\", \"NLC3\",\n",
    "                \"NLC4\", \"NLC5\", \"NLC6\", \"NLC7\", \"NLC8\", \"NLC9\", \"NLI2\", \"NOB1\", \"NOB2\", \"NOB3\", \"NOC\", \"NOI2\",\n",
    "                \"OAA\", \"OAE\", \"PHA\", \"PHB\", \"PHB1\", \"PHU\", \"PHZ\", \"PLA5\", \"PLA6\", \"PLB1\", \"PLB2\", \"PLB3\",\n",
    "                \"PLB4\", \"PLL\", \"PLP\", \"PLY1\", \"PLY3\", \"PTB\", \"PTB1\", \"PTB4\", \"PTE\", \"PTT\", \"PTW\", \"PTY\", \"PYA1\", \n",
    "                \"PYA3\", \"ROA\", \"ROA1\", \"ROA2\", \"ROA3\", \"ROA7\", \"ROB\", \"ROB1\", \"ROB2\", \"ROB3\", \"ROB4\", \n",
    "                \"ROB8\", \"ROC\", \"ROC1\", \"ROL\", \"ROP\", \"RSA\", \"RUA3\", \"RUA4\", \"RUC\", \"RUC1\", \"RUC2\", \"RUC8\", \n",
    "                \"RUC9\", \"RUD\", \"RUS\", \"RUU1\", \"RUU8\",\"SEC\", \"SEC1\", \"SEC2\", \"SEC5\", \"SEC9\", \"SEE\", \"SEE1\", \n",
    "                \"SEE2\", \"SEL\", \"SGA\", \"SGB\", \"SGG\", \"SIA\", \"SIA1\", \"SIA2\", \"SIA8\", \"SIC\", \"SIC1\", \"SIC2\", \n",
    "                \"SIC8\", \"SIT1\", \"SIT2\", \"SKB6\", \"SMA\", \"SUA\", \"SUA3\", \"SUA4\", \"SUB\", \"SUC\", \"SUD\", \"SUS\", \n",
    "                \"THA\", \"THR0\", \"THZ\", \"TJA3\", \"TJB\", \"TJR3\", \"TJU\", \"TRA\", \"TRB\", \"TRT3\", \"TRT4\", \"TRU\", \"TRY\",\n",
    "                \"TTB\", \"TWB\", \"TWB1\", \"TWU\", \"TWU1\", \"TWY\", \"UAA\", \"UAA1\", \"UAC2\", \"UAU\", \"VEA1\", \"VNA3\", \n",
    "                \"VNA6\", \"VNB\", \"VNU\", \"VNY\", \"YUB\", \"YUMP\", \"ZAA\", \"ZAA1\", \"ZMA\", \"ZMA1\", \"ZMA5\", \"ZWA1\"]"
   ]
  },
  {
   "cell_type": "code",
   "execution_count": 32,
   "metadata": {},
   "outputs": [
    {
     "data": {
      "text/plain": [
       "       1177\n",
       "Yes     856\n",
       "Name: Granted Non-Trilat, dtype: int64"
      ]
     },
     "execution_count": 32,
     "metadata": {},
     "output_type": "execute_result"
    }
   ],
   "source": [
    "for i in range(total_patent):\n",
    "    Non_trilat = ''\n",
    "    indicator_code = df['Family kindcode'][i].split(' | ')\n",
    "        \n",
    "    for member_code in indicator_code:\n",
    "        if member_code.strip() in Non_trilat_grant:\n",
    "            Non_trilat = 'Yes'\n",
    "    df.loc[i,'Granted Non-Trilat'] =  Non_trilat\n",
    "\n",
    "df['Granted Non-Trilat'].value_counts()"
   ]
  },
  {
   "cell_type": "markdown",
   "metadata": {},
   "source": [
    "### Family Grant Status"
   ]
  },
  {
   "cell_type": "code",
   "execution_count": 33,
   "metadata": {},
   "outputs": [
    {
     "data": {
      "text/plain": [
       "Granted in >=1 Country    1068\n",
       "Not Yet Granted            965\n",
       "Name: Family Grant Status, dtype: int64"
      ]
     },
     "execution_count": 33,
     "metadata": {},
     "output_type": "execute_result"
    }
   ],
   "source": [
    "for i in range(total_patent):\n",
    "    Grant_status = ''\n",
    "    if (df['Granted US'][i] == 'Yes' or df['Granted EP'][i] == 'Yes' or\n",
    "        df['Granted JP'][i] == 'Yes' or df['Granted Non-Trilat'][i] == 'Yes'):\n",
    "        \n",
    "        Grant_status = 'Granted in >=1 Country'\n",
    "    \n",
    "    else:\n",
    "        Grant_status = 'Not Yet Granted'\n",
    "        \n",
    "    df.loc[i,'Family Grant Status'] =  Grant_status\n",
    "    \n",
    "df['Family Grant Status'].value_counts()"
   ]
  },
  {
   "cell_type": "markdown",
   "metadata": {},
   "source": [
    "### Technical Breadth"
   ]
  },
  {
   "cell_type": "code",
   "execution_count": 34,
   "metadata": {},
   "outputs": [],
   "source": [
    "for i in range(total_patent):\n",
    "    df.loc[i,'Technical Breadth'] = df['DWPI Class'][i].count('|  |') + 1"
   ]
  },
  {
   "cell_type": "markdown",
   "metadata": {},
   "source": [
    "### Filing Breadth (excl PCT)"
   ]
  },
  {
   "cell_type": "code",
   "execution_count": 35,
   "metadata": {},
   "outputs": [],
   "source": [
    "for i in range(total_patent):\n",
    "    \n",
    "    if len(df['Family member without PCT'][i]) > 1:\n",
    "        df.loc[i,'Filing Breadth'] = df['Family member without PCT'][i].count('|') + 1\n",
    "    else:\n",
    "        df.loc[i,'Filing Breadth'] = 0"
   ]
  },
  {
   "cell_type": "markdown",
   "metadata": {},
   "source": [
    "### Years Since Publication and Year Since Priority"
   ]
  },
  {
   "cell_type": "code",
   "execution_count": 36,
   "metadata": {},
   "outputs": [],
   "source": [
    "for i in range(total_patent):\n",
    "    year_since_publication = (date.today() - df['Publication Date'][i].date()).days / 365.2425\n",
    "    df.loc[i,'Years Since Publication'] = year_since_publication\n",
    "    \n",
    "    year_since_priority = (date.today() - df['Priority Date - Earliest'][i].date()).days / 365.2425\n",
    "    df.loc[i,'Years Since Priority'] = year_since_priority"
   ]
  },
  {
   "cell_type": "markdown",
   "metadata": {},
   "source": [
    "### Citation per Year"
   ]
  },
  {
   "cell_type": "code",
   "execution_count": 37,
   "metadata": {},
   "outputs": [],
   "source": [
    "df['Citations per Year'] = df['Count of Citing Patents']/df['Years Since Publication']"
   ]
  },
  {
   "cell_type": "markdown",
   "metadata": {},
   "source": [
    "### Years Remaining"
   ]
  },
  {
   "cell_type": "code",
   "execution_count": 38,
   "metadata": {},
   "outputs": [],
   "source": [
    "for i in range(total_patent):\n",
    "    \n",
    "    if df['CN Utility Model'][i] == 'Non CN Utility Model':\n",
    "        if df['Years Since Priority'][i] > 20:\n",
    "            df.loc[i, 'Years remaining'] = 'Expired'\n",
    "        else:\n",
    "            df.loc[i, 'Years remaining'] = 20 - df['Years Since Priority'][i]\n",
    "\n",
    "    if df['CN Utility Model'][i] == 'CN Utility Model':\n",
    "        if df['Years Since Priority'][i] > 10:\n",
    "            df.loc[i, 'Years remaining'] = 'Expired'\n",
    "        else:\n",
    "            df.loc[i, 'Years remaining'] = 10 - df['Years Since Priority'][i]"
   ]
  },
  {
   "cell_type": "markdown",
   "metadata": {},
   "source": [
    "### Grant Scores"
   ]
  },
  {
   "cell_type": "code",
   "execution_count": 39,
   "metadata": {},
   "outputs": [],
   "source": [
    "for i in range(total_patent):\n",
    "    \n",
    "    if df['Granted US'][i] == 'Yes' :\n",
    "        df.loc[i,'US Grant Score'] = 30.0\n",
    "    else:\n",
    "        df.loc[i,'US Grant Score'] = 0.0\n",
    "    \n",
    "    if df['Granted JP'][i] == 'Yes' :\n",
    "        df.loc[i,'JP Grant Score'] = 20.0\n",
    "    else:\n",
    "        df.loc[i,'JP Grant Score'] = 0.0\n",
    "    \n",
    "    if df['Granted EP'][i] == 'Yes' :\n",
    "        df.loc[i,'EP Grant Score'] = 20.0\n",
    "    else:\n",
    "        df.loc[i,'EP Grant Score'] = 0.0\n",
    "        \n",
    "    if df['Granted Non-Trilat'][i] == 'Yes' :\n",
    "        df.loc[i,'Non-Trilat Grant Score'] = 10.0\n",
    "    else:\n",
    "        df.loc[i,'Non-Trilat Grant Score'] = 0.0\n",
    "        "
   ]
  },
  {
   "cell_type": "markdown",
   "metadata": {},
   "source": [
    "### Filing Breadth Score"
   ]
  },
  {
   "cell_type": "code",
   "execution_count": 40,
   "metadata": {},
   "outputs": [
    {
     "name": "stdout",
     "output_type": "stream",
     "text": [
      "Sum :  5263.0\n",
      "Standard Deviation : 1.9874389381826578\n",
      "Mean : 2.588785046728972\n"
     ]
    }
   ],
   "source": [
    "print('Sum : ', df['Filing Breadth'].sum())\n",
    "print('Standard Deviation :', df['Filing Breadth'].std())\n",
    "print('Mean :', df['Filing Breadth'].mean())\n",
    "\n",
    "mean_minus_filing_breadth = df['Filing Breadth'].mean() - df['Filing Breadth'].std()\n",
    "mean_plus_filing_breadth = df['Filing Breadth'].mean() + df['Filing Breadth'].std()\n",
    "\n",
    "if mean_minus_filing_breadth < 1:\n",
    "    lower_boundary_filing_breadth = 1\n",
    "else:\n",
    "    lower_boundary_filing_breadth = mean_minus_filing_breadth\n",
    "    \n",
    "if df['Filing Breadth'].std() > 2:\n",
    "    lower_boundary_filing_breadth = df['Filing Breadth'].mean() / 2\n",
    "\n",
    "upper_boundary_filing_breadth = mean_plus_filing_breadth  "
   ]
  },
  {
   "cell_type": "code",
   "execution_count": 41,
   "metadata": {},
   "outputs": [
    {
     "data": {
      "text/plain": [
       "0.0     1010\n",
       "20.0     524\n",
       "30.0     355\n",
       "10.0     144\n",
       "Name: Filing Breadth Score, dtype: int64"
      ]
     },
     "execution_count": 41,
     "metadata": {},
     "output_type": "execute_result"
    }
   ],
   "source": [
    "for i in range(total_patent):\n",
    "    if df['Quad Filed'][i] == 'Yes':\n",
    "        df.loc[i, 'Filing Breadth Score'] = 30.0\n",
    "    else:\n",
    "        if df['Filing Breadth'][i] <= lower_boundary_filing_breadth:\n",
    "            df.loc[i, 'Filing Breadth Score'] = 0.0\n",
    "        \n",
    "        elif df['Filing Breadth'][i] <= df['Filing Breadth'].mean():\n",
    "            df.loc[i, 'Filing Breadth Score'] = 10.0\n",
    "        \n",
    "        elif df['Filing Breadth'][i] <= upper_boundary_filing_breadth:\n",
    "            df.loc[i, 'Filing Breadth Score'] = 20.0\n",
    "        \n",
    "        elif df['Filing Breadth'][i] > upper_boundary_filing_breadth:\n",
    "            df.loc[i, 'Filing Breadth Score'] = 30.0\n",
    "            \n",
    "df['Filing Breadth Score'].value_counts()\n",
    "        "
   ]
  },
  {
   "cell_type": "markdown",
   "metadata": {},
   "source": [
    "### Citation Freq Score"
   ]
  },
  {
   "cell_type": "code",
   "execution_count": 42,
   "metadata": {},
   "outputs": [
    {
     "name": "stdout",
     "output_type": "stream",
     "text": [
      "Sum :  2728.6714072180866\n",
      "Standard Deviation : 4.121904332547022\n",
      "Mean : 1.3421895756114544\n"
     ]
    }
   ],
   "source": [
    "print('Sum : ', df['Citations per Year'].sum())\n",
    "print('Standard Deviation :', df['Citations per Year'].std())\n",
    "print('Mean :', df['Citations per Year'].mean())\n",
    "\n",
    "mean_minus_citation = df['Citations per Year'].mean() - df['Citations per Year'].std()\n",
    "mean_plus_citation = df['Citations per Year'].mean() + df['Citations per Year'].std()\n",
    "\n",
    "if df['Citations per Year'].std() > df['Citations per Year'].mean():\n",
    "    lower_boundary_citation = df['Citations per Year'].mean()/2\n",
    "else:\n",
    "    lower_boundary_citation = mean_minus_citation\n",
    "    \n",
    "upper_boundary_citation = mean_plus_citation  "
   ]
  },
  {
   "cell_type": "code",
   "execution_count": 43,
   "metadata": {},
   "outputs": [
    {
     "data": {
      "text/plain": [
       "0.0     1356\n",
       "20.0     343\n",
       "10.0     222\n",
       "30.0     112\n",
       "Name: Citation Freq Score, dtype: int64"
      ]
     },
     "execution_count": 43,
     "metadata": {},
     "output_type": "execute_result"
    }
   ],
   "source": [
    "for i in range(total_patent):\n",
    "    if df['Citations per Year'][i] <= lower_boundary_citation:\n",
    "        df.loc[i, 'Citation Freq Score'] = 0.0\n",
    "        \n",
    "    elif df['Citations per Year'][i] <= df['Citations per Year'].mean():\n",
    "        df.loc[i, 'Citation Freq Score'] = 10.0\n",
    "        \n",
    "    elif df['Citations per Year'][i] <= upper_boundary_citation:\n",
    "        df.loc[i, 'Citation Freq Score'] = 20.0\n",
    "        \n",
    "    elif df['Citations per Year'][i] > upper_boundary_citation:\n",
    "        df.loc[i, 'Citation Freq Score'] = 30.0\n",
    "            \n",
    "df['Citation Freq Score'].value_counts()\n",
    "        "
   ]
  },
  {
   "cell_type": "markdown",
   "metadata": {},
   "source": [
    "### Technical Breadth Score"
   ]
  },
  {
   "cell_type": "code",
   "execution_count": 44,
   "metadata": {},
   "outputs": [
    {
     "name": "stdout",
     "output_type": "stream",
     "text": [
      "Sum :  4583.0\n",
      "Standard Deviation : 1.1046441066832242\n",
      "Mean : 2.254303984259715\n"
     ]
    }
   ],
   "source": [
    "print('Sum : ', df['Technical Breadth'].sum())\n",
    "print('Standard Deviation :', df['Technical Breadth'].std())\n",
    "print('Mean :', df['Technical Breadth'].mean())\n",
    "\n",
    "mean_minus_technical_breadth = df['Technical Breadth'].mean() - df['Technical Breadth'].std()\n",
    "mean_plus_technical_breadth = df['Technical Breadth'].mean() + df['Technical Breadth'].std()\n",
    "\n",
    "if df['Technical Breadth'].std() > df['Technical Breadth'].mean():\n",
    "    lower_boundary_technical_breadth = df['Technical Breadth'].mean()/2\n",
    "else:\n",
    "    lower_boundary_technical_breadth = mean_minus_technical_breadth\n",
    "    \n",
    "if lower_boundary_technical_breadth < 1:\n",
    "    lower_boundary_technical_breadth = 1\n",
    "else:\n",
    "    lower_boundary_technical_breadth = lower_boundary_technical_breadth\n",
    "\n",
    "upper_boundary_technical_breadth = mean_plus_technical_breadth  "
   ]
  },
  {
   "cell_type": "code",
   "execution_count": 45,
   "metadata": {},
   "outputs": [
    {
     "data": {
      "text/plain": [
       "10.0    883\n",
       "0.0     491\n",
       "20.0    431\n",
       "30.0    228\n",
       "Name: Technical Breadth Score, dtype: int64"
      ]
     },
     "execution_count": 45,
     "metadata": {},
     "output_type": "execute_result"
    }
   ],
   "source": [
    "for i in range(total_patent):\n",
    "    if df['Technical Breadth'][i] <= lower_boundary_technical_breadth:\n",
    "        df.loc[i, 'Technical Breadth Score'] = 0.0\n",
    "        \n",
    "    elif df['Technical Breadth'][i] <= df['Technical Breadth'].mean():\n",
    "        df.loc[i, 'Technical Breadth Score'] = 10.0\n",
    "        \n",
    "    elif df['Technical Breadth'][i] <= upper_boundary_technical_breadth:\n",
    "        df.loc[i, 'Technical Breadth Score'] = 20.0\n",
    "        \n",
    "    elif df['Technical Breadth'][i] > upper_boundary_technical_breadth:\n",
    "        df.loc[i, 'Technical Breadth Score'] = 30.0\n",
    "            \n",
    "df['Technical Breadth Score'].value_counts()"
   ]
  },
  {
   "cell_type": "markdown",
   "metadata": {},
   "source": [
    "### Weighted Scores"
   ]
  },
  {
   "cell_type": "code",
   "execution_count": 46,
   "metadata": {},
   "outputs": [
    {
     "name": "stdout",
     "output_type": "stream",
     "text": [
      "Technical Breadth -: 24290.0 27.0\n",
      "Grant Score : 31400.0 35.0\n",
      "Citation Freq Score : 12440.0 13.0\n",
      "Filing Breadth Score : 22570.0 25.0\n"
     ]
    }
   ],
   "source": [
    "CumulativeTotalScore_TechnicalBreadth = df['Technical Breadth Score'].sum()\n",
    "CumulativeTotalScore_GrantLocations = (df['US Grant Score'].sum() + df['JP Grant Score'].sum() + \n",
    "                                       df['EP Grant Score'].sum() + df['Non-Trilat Grant Score'].sum())\n",
    "CumulativeTotalScore_CitationFrequency = df['Citation Freq Score'].sum()\n",
    "CumulativeTotalScore_FilingBreadth = df['Filing Breadth Score'].sum()\n",
    "\n",
    "\n",
    "total_cumulative_score = (CumulativeTotalScore_FilingBreadth + CumulativeTotalScore_TechnicalBreadth + \n",
    "                          CumulativeTotalScore_GrantLocations + CumulativeTotalScore_CitationFrequency)\n",
    "\n",
    "PercentScores_FilingBreadth =  round((CumulativeTotalScore_FilingBreadth / total_cumulative_score) * 100, 0)\n",
    "PercentScores_TechnicalBreadth = round((CumulativeTotalScore_TechnicalBreadth / total_cumulative_score * 100), 0)\n",
    "PercentScores_GrantLocations = round((CumulativeTotalScore_GrantLocations / total_cumulative_score * 100), 0)\n",
    "\n",
    "#PercentScores_CitationFrequency = round((CumulativeTotalScore_CitationFrequency / total_cumulative_score * 100), 0)\n",
    "PercentScores_CitationFrequency = 100 - (PercentScores_FilingBreadth + PercentScores_TechnicalBreadth + \n",
    "                                         PercentScores_GrantLocations)\n",
    "\n",
    "print('Technical Breadth -:', CumulativeTotalScore_TechnicalBreadth,PercentScores_TechnicalBreadth)\n",
    "print('Grant Score :', CumulativeTotalScore_GrantLocations, PercentScores_GrantLocations )\n",
    "print('Citation Freq Score :',CumulativeTotalScore_CitationFrequency,PercentScores_CitationFrequency )\n",
    "print('Filing Breadth Score :', CumulativeTotalScore_FilingBreadth, PercentScores_FilingBreadth)\n"
   ]
  },
  {
   "cell_type": "markdown",
   "metadata": {},
   "source": [
    "### Userform"
   ]
  },
  {
   "cell_type": "code",
   "execution_count": 47,
   "metadata": {},
   "outputs": [
    {
     "name": "stdout",
     "output_type": "stream",
     "text": [
      "25\n"
     ]
    }
   ],
   "source": [
    "from tkinter import *\n",
    "\n",
    "def userform():\n",
    "    window=Tk()\n",
    "\n",
    "    lbl0=Label(window, text='Suggested as per the data')\n",
    "    lbl0r=Label(window, text='Final weights')\n",
    "    lbl1=Label(window, text='Filing Breadth')\n",
    "    lbl2=Label(window, text='Technical Breadth')\n",
    "    lbl3=Label(window, text='Grant Score')\n",
    "    lbl4=Label(window, text='Citation')\n",
    "\n",
    "    lbl1r=Label(window, text='Filing Breadth')\n",
    "    lbl2r=Label(window, text='Technical Breadth')\n",
    "    lbl3r=Label(window, text='Grant Score')\n",
    "    lbl4r=Label(window, text='Citation')\n",
    "\n",
    "    lbl_bottom1=Label(window, text='If the suggested Weighting factors are in the range of 15 to 40 percent.') \n",
    "    lbl_bottom2=Label(window, text='Keep the selected weight factor as 25%.')\n",
    "    lbl_bottom3=Label(window, text='If the proposed weighting factor(s) < 5% or > 50%.')\n",
    "    lbl_bottom4=Label(window, text='The selected Weighted factors need to be changed suitably.')\n",
    "\n",
    "\n",
    "    lbl0.place(x=25, y=0)\n",
    "    lbl0r.place(x=250, y=0)\n",
    "    lbl1.place(x=25, y=30)\n",
    "    lbl2.place(x=25, y=80)\n",
    "    lbl3.place(x=25, y=130)\n",
    "    lbl4.place(x=25, y=180)\n",
    "\n",
    "    lbl1r.place(x=250, y=30)\n",
    "    lbl2r.place(x=250, y=80)\n",
    "    lbl3r.place(x=250, y=130)\n",
    "    lbl4r.place(x=250, y=180)\n",
    "\n",
    "    lbl_bottom1.place(x=25, y=250)\n",
    "    lbl_bottom2.place(x=25, y=270)\n",
    "    lbl_bottom3.place(x=25, y=290)\n",
    "    lbl_bottom4.place(x=25, y=310)\n",
    "\n",
    "    t1=Entry(bd=3, width=7)\n",
    "    t2=Entry(bd=3, width=7)\n",
    "    t3=Entry(bd=3, width=7)\n",
    "    t4=Entry(bd=3, width=7)\n",
    "\n",
    "    t1r=Entry(bd=3, width=7)\n",
    "    t2r=Entry(bd=3, width=7)\n",
    "    t3r=Entry(bd=3, width=7)\n",
    "    t4r=Entry(bd=3, width=7)\n",
    "\n",
    "    t1.place(x=150, y=30)\n",
    "    t2.place(x=150, y=80)\n",
    "    t3.place(x=150, y=130)\n",
    "    t4.place(x=150, y=180)\n",
    "\n",
    "    t1r.place(x=375, y=30)\n",
    "    t2r.place(x=375, y=80)\n",
    "    t3r.place(x=375, y=130)\n",
    "    t4r.place(x=375, y=180)\n",
    "\n",
    "    t1.insert(0,PercentScores_FilingBreadth)\n",
    "    t2.insert(0,PercentScores_TechnicalBreadth)\n",
    "    t3.insert(0,PercentScores_GrantLocations)\n",
    "    t4.insert(0,PercentScores_CitationFrequency)\n",
    "\n",
    "    t1r.insert(0,25)\n",
    "    t2r.insert(0,25)\n",
    "    t3r.insert(0,25)\n",
    "    t4r.insert(0,25)\n",
    "\n",
    "    def getinput():\n",
    "        filing_breadth=t1r.get()\n",
    "        technical_breadth=t2r.get()\n",
    "        grant_score = t3r.get()\n",
    "        citation_score = t4r.get()\n",
    "        window.destroy()\n",
    "\n",
    "        global params\n",
    "        params = [filing_breadth,technical_breadth,grant_score,citation_score]\n",
    "        print(filing_breadth)\n",
    "\n",
    "    Button(window, text = \"Confirm\",command = getinput).place(x=375, y=220)\n",
    "\n",
    "    window.title('Weighted Scores')\n",
    "    window.geometry(\"500x350+10+10\")\n",
    "    window.mainloop()\n",
    "    \n",
    "userform()"
   ]
  },
  {
   "cell_type": "code",
   "execution_count": 48,
   "metadata": {},
   "outputs": [],
   "source": [
    "WeightingFactor_FilingBreadth = int(params[0]) / PercentScores_FilingBreadth\n",
    "WeightingFactor_TechnicalBreadth = int(params[1]) / PercentScores_TechnicalBreadth\n",
    "WeightingFactor_GrantLocations = int(params[2]) / PercentScores_GrantLocations\n",
    "WeightingFactor_CitationFrequency = int(params[3]) / PercentScores_CitationFrequency"
   ]
  },
  {
   "cell_type": "markdown",
   "metadata": {},
   "source": [
    "### Weighted Grant, Citation, Filing breadth and Technical Breadth"
   ]
  },
  {
   "cell_type": "code",
   "execution_count": 49,
   "metadata": {},
   "outputs": [],
   "source": [
    "df['Grant Score (Weighted)'] = (df['US Grant Score'] + df['EP Grant Score'] + df['JP Grant Score']\n",
    "                               + df['Non-Trilat Grant Score']) * WeightingFactor_GrantLocations\n",
    "\n",
    "df['Filing Breadth Score (Weighted)'] = df['Filing Breadth Score'] * WeightingFactor_FilingBreadth\n",
    "\n",
    "df['Tech Breadth Score (Weighted)'] = df['Technical Breadth Score'] * WeightingFactor_TechnicalBreadth\n",
    "\n",
    "df['Cite Freq Score (Weighted)'] = df['Citation Freq Score'] * WeightingFactor_CitationFrequency"
   ]
  },
  {
   "cell_type": "code",
   "execution_count": 50,
   "metadata": {},
   "outputs": [],
   "source": [
    "df['Raw Strength Index (Weighted, No Age Score)'] = (df['Grant Score (Weighted)'] + \n",
    "                                                     df['Filing Breadth Score (Weighted)'] +\n",
    "                                                     df['Filing Breadth Score (Weighted)'] +\n",
    "                                                     df['Cite Freq Score (Weighted)'])"
   ]
  },
  {
   "cell_type": "markdown",
   "metadata": {},
   "source": [
    "### Youth Premium"
   ]
  },
  {
   "cell_type": "code",
   "execution_count": 51,
   "metadata": {},
   "outputs": [],
   "source": [
    "for i in range(total_patent):\n",
    "    if df['Years Since Priority'][i] == 0:\n",
    "        YPriorty = 1\n",
    "    else:\n",
    "        YPriorty = (5*365 - (date.today() - df['Publication Date'][i].date()).days) / (5 * 365)\n",
    "        \n",
    "    if df['CN Utility Model'][i] == 'Non CN Utility Model':\n",
    "        if df['Years Since Priority'][i] <= 5:\n",
    "            df.loc[i,'Youth Premium'] = df['Raw Strength Index (Weighted, No Age Score)'].mean() * YPriorty\n",
    "        else:\n",
    "            df.loc[i,'Youth Premium'] = 0\n",
    "    else:\n",
    "        df.loc[i,'Youth Premium'] = ''    "
   ]
  },
  {
   "cell_type": "markdown",
   "metadata": {},
   "source": [
    "### Age Discount (Non CN Us)"
   ]
  },
  {
   "cell_type": "code",
   "execution_count": 52,
   "metadata": {},
   "outputs": [],
   "source": [
    "for i in range(total_patent):\n",
    "    if df['CN Utility Model'][i] == 'Non CN Utility Model':\n",
    "        if df['Years remaining'][i] == 'Expired':\n",
    "            df.loc[i,'Age Discount (Non CN Us)'] = 0\n",
    "        else:\n",
    "            df.loc[i,'Age Discount (Non CN Us)'] = (20*365 -(date.today() - df['Publication Date'][i].date()).days) / (20*365)\n",
    "    else:\n",
    "        df.loc[i,'Age Discount (Non CN Us)'] = ''"
   ]
  },
  {
   "cell_type": "markdown",
   "metadata": {},
   "source": [
    "### Age discounts - CN Us"
   ]
  },
  {
   "cell_type": "code",
   "execution_count": 53,
   "metadata": {},
   "outputs": [],
   "source": [
    "for i in range(total_patent):\n",
    "    if df['CN Utility Model'][i] == 'CN Utility Model':\n",
    "        if df['Years remaining'][i] == 'Expired':\n",
    "            df.loc[i,'Age discounts - CN Us'] = 0\n",
    "        else:\n",
    "            df.loc[i,'Age discounts - CN Us'] = (10*365 -(date.today() - df['Publication Date'][i].date()).days) / (10*365)\n",
    "    else:\n",
    "        df.loc[i,'Age discounts - CN Us'] = ''"
   ]
  },
  {
   "cell_type": "markdown",
   "metadata": {},
   "source": [
    "### Final Score"
   ]
  },
  {
   "cell_type": "code",
   "execution_count": 54,
   "metadata": {},
   "outputs": [],
   "source": [
    "for i in range(total_patent):\n",
    "    if df['CN Utility Model'][i] == 'Non CN Utility Model':\n",
    "        df.loc[i,'Final Index'] = ((df['Raw Strength Index (Weighted, No Age Score)'][i] + df['Youth Premium'][i]) *\n",
    "                                   df['Age Discount (Non CN Us)'][i])\n",
    "        df.loc[i,'DSI Without Age discount'] = (df['Raw Strength Index (Weighted, No Age Score)'][i] + \n",
    "                                                 df['Youth Premium'][i])\n",
    "    \n",
    "    else:\n",
    "        df.loc[i,'Final Index'] = (df['Raw Strength Index (Weighted, No Age Score)'][i] * df['Age discounts - CN Us'][i])\n",
    "        df.loc[i,'DSI Without Age discount'] = df['Raw Strength Index (Weighted, No Age Score)'][i]                      \n",
    "                                   \n",
    "        "
   ]
  },
  {
   "cell_type": "markdown",
   "metadata": {},
   "source": [
    "### Strength Summary code"
   ]
  },
  {
   "cell_type": "code",
   "execution_count": 55,
   "metadata": {},
   "outputs": [
    {
     "data": {
      "text/plain": [
       "42.121720912729984"
      ]
     },
     "execution_count": 55,
     "metadata": {},
     "output_type": "execute_result"
    }
   ],
   "source": [
    "df['Final Index'].mean()\n",
    "df['Final Index'].std()\n"
   ]
  },
  {
   "cell_type": "code",
   "execution_count": 56,
   "metadata": {},
   "outputs": [],
   "source": [
    "MeanMinus_1StandardDeviation = df['Final Index'].mean() - df['Final Index'].std()\n",
    "MeanPlus_1StandardDeviation = df['Final Index'].mean() + df['Final Index'].std()\n",
    "\n",
    "if MeanMinus_1StandardDeviation < 1:\n",
    "    lower_boundary = df['Final Index'].mean()/2\n",
    "else:\n",
    "    lower_boundary = MeanMinus_1StandardDeviation\n",
    "    \n",
    "MidBoundary = df['Final Index'].mean()\n",
    "upperBoundary = MeanPlus_1StandardDeviation"
   ]
  },
  {
   "cell_type": "code",
   "execution_count": 57,
   "metadata": {},
   "outputs": [
    {
     "data": {
      "text/plain": [
       "Very Weak          966\n",
       "Somewhat Strong    428\n",
       "Very Strong        404\n",
       "Somewhat Weak      235\n",
       "Name: Strength Summary, dtype: int64"
      ]
     },
     "execution_count": 57,
     "metadata": {},
     "output_type": "execute_result"
    }
   ],
   "source": [
    "for i in range(total_patent):\n",
    "    if df['Final Index'][i] <= lower_boundary:\n",
    "        df.loc[i, 'Strength Summary'] = 'Very Weak'\n",
    "        \n",
    "    elif df['Final Index'][i] <= MidBoundary:\n",
    "        df.loc[i, 'Strength Summary'] = 'Somewhat Weak'\n",
    "        \n",
    "    elif df['Final Index'][i] <= upperBoundary:\n",
    "        df.loc[i, 'Strength Summary'] = 'Somewhat Strong'\n",
    "        \n",
    "    elif df['Final Index'][i] > upperBoundary:\n",
    "        df.loc[i, 'Strength Summary'] = 'Very Strong'\n",
    "            \n",
    "df['Strength Summary'].value_counts()"
   ]
  },
  {
   "cell_type": "code",
   "execution_count": 58,
   "metadata": {},
   "outputs": [
    {
     "data": {
      "text/plain": [
       "Text(0.5, 0, 'Strength')"
      ]
     },
     "execution_count": 58,
     "metadata": {},
     "output_type": "execute_result"
    },
    {
     "data": {
      "image/png": "[encoded data removed]",
      "text/plain": [
       "<Figure size 720x576 with 1 Axes>"
      ]
     },
     "metadata": {
      "needs_background": "light"
     },
     "output_type": "display_data"
    }
   ],
   "source": [
    "df.fillna('', inplace=True)\n",
    "ax = df['Strength Summary'].value_counts().plot(kind='bar',\n",
    "                                    figsize=(10,8),\n",
    "                                    title=\"Strength Summary\",\n",
    "                                    color = 'red')\n",
    "#ax = df['Strength Summary'].value_counts().plot(color = 'blue')\n",
    "ax.set_xlabel(\"Strength\")"
   ]
  },
  {
   "cell_type": "markdown",
   "metadata": {},
   "source": [
    "### Excel Formatting"
   ]
  },
  {
   "cell_type": "code",
   "execution_count": 59,
   "metadata": {},
   "outputs": [],
   "source": [
    "df.to_excel(\"output.xlsx\", sheet_name='Strength index', index= False)"
   ]
  },
  {
   "cell_type": "code",
   "execution_count": null,
   "metadata": {},
   "outputs": [],
   "source": []
  }
 ],
 "metadata": {
  "kernelspec": {
   "display_name": "Python 3",
   "language": "python",
   "name": "python3"
  },
  "language_info": {
   "codemirror_mode": {
    "name": "ipython",
    "version": 3
   },
   "file_extension": ".py",
   "mimetype": "text/x-python",
   "name": "python",
   "nbconvert_exporter": "python",
   "pygments_lexer": "ipython3",
   "version": "3.6.12"
  }
 },
 "nbformat": 4,
 "nbformat_minor": 4
}
